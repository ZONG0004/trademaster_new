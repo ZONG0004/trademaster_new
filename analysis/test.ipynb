{
 "cells": [
  {
   "cell_type": "code",
   "execution_count": 2,
   "metadata": {},
   "outputs": [],
   "source": [
    "import numpy as np\n",
    "import pandas as pd\n",
    "import os\n",
    "\n",
    "file_dir=\"/home/sunshuo/qml/trademaster_new/dj30/sac/results\"\n",
    "all_file_list=os.listdir(file_dir)\n",
    "all_result=[]\n",
    "for single_file in all_file_list:\n",
    "    single_data_frame=pd.read_csv(os.path.join(file_dir,single_file))\n",
    "    all_result.append(single_data_frame)"
   ]
  },
  {
   "cell_type": "code",
   "execution_count": 3,
   "metadata": {},
   "outputs": [],
   "source": [
    "result=all_result[0]"
   ]
  },
  {
   "cell_type": "code",
   "execution_count": 4,
   "metadata": {},
   "outputs": [
    {
     "data": {
      "text/html": [
       "<div>\n",
       "<style scoped>\n",
       "    .dataframe tbody tr th:only-of-type {\n",
       "        vertical-align: middle;\n",
       "    }\n",
       "\n",
       "    .dataframe tbody tr th {\n",
       "        vertical-align: top;\n",
       "    }\n",
       "\n",
       "    .dataframe thead th {\n",
       "        text-align: right;\n",
       "    }\n",
       "</style>\n",
       "<table border=\"1\" class=\"dataframe\">\n",
       "  <thead>\n",
       "    <tr style=\"text-align: right;\">\n",
       "      <th></th>\n",
       "      <th>date</th>\n",
       "      <th>total assets</th>\n",
       "    </tr>\n",
       "  </thead>\n",
       "  <tbody>\n",
       "    <tr>\n",
       "      <th>0</th>\n",
       "      <td>2021-01-04</td>\n",
       "      <td>100000.000000</td>\n",
       "    </tr>\n",
       "    <tr>\n",
       "      <th>1</th>\n",
       "      <td>2021-01-05</td>\n",
       "      <td>100306.339014</td>\n",
       "    </tr>\n",
       "    <tr>\n",
       "      <th>2</th>\n",
       "      <td>2021-01-06</td>\n",
       "      <td>101712.991065</td>\n",
       "    </tr>\n",
       "    <tr>\n",
       "      <th>3</th>\n",
       "      <td>2021-01-07</td>\n",
       "      <td>102279.524368</td>\n",
       "    </tr>\n",
       "    <tr>\n",
       "      <th>4</th>\n",
       "      <td>2021-01-08</td>\n",
       "      <td>102361.084382</td>\n",
       "    </tr>\n",
       "    <tr>\n",
       "      <th>...</th>\n",
       "      <td>...</td>\n",
       "      <td>...</td>\n",
       "    </tr>\n",
       "    <tr>\n",
       "      <th>247</th>\n",
       "      <td>2021-12-27</td>\n",
       "      <td>99910.945363</td>\n",
       "    </tr>\n",
       "    <tr>\n",
       "      <th>248</th>\n",
       "      <td>2021-12-28</td>\n",
       "      <td>100150.487201</td>\n",
       "    </tr>\n",
       "    <tr>\n",
       "      <th>249</th>\n",
       "      <td>2021-12-29</td>\n",
       "      <td>100296.853270</td>\n",
       "    </tr>\n",
       "    <tr>\n",
       "      <th>250</th>\n",
       "      <td>2021-12-30</td>\n",
       "      <td>100028.488242</td>\n",
       "    </tr>\n",
       "    <tr>\n",
       "      <th>251</th>\n",
       "      <td>2021-12-31</td>\n",
       "      <td>99842.670706</td>\n",
       "    </tr>\n",
       "  </tbody>\n",
       "</table>\n",
       "<p>252 rows × 2 columns</p>\n",
       "</div>"
      ],
      "text/plain": [
       "           date   total assets\n",
       "0    2021-01-04  100000.000000\n",
       "1    2021-01-05  100306.339014\n",
       "2    2021-01-06  101712.991065\n",
       "3    2021-01-07  102279.524368\n",
       "4    2021-01-08  102361.084382\n",
       "..          ...            ...\n",
       "247  2021-12-27   99910.945363\n",
       "248  2021-12-28  100150.487201\n",
       "249  2021-12-29  100296.853270\n",
       "250  2021-12-30  100028.488242\n",
       "251  2021-12-31   99842.670706\n",
       "\n",
       "[252 rows x 2 columns]"
      ]
     },
     "execution_count": 4,
     "metadata": {},
     "output_type": "execute_result"
    }
   ],
   "source": [
    "result"
   ]
  },
  {
   "cell_type": "code",
   "execution_count": 5,
   "metadata": {},
   "outputs": [
    {
     "data": {
      "text/html": [
       "<div>\n",
       "<style scoped>\n",
       "    .dataframe tbody tr th:only-of-type {\n",
       "        vertical-align: middle;\n",
       "    }\n",
       "\n",
       "    .dataframe tbody tr th {\n",
       "        vertical-align: top;\n",
       "    }\n",
       "\n",
       "    .dataframe thead th {\n",
       "        text-align: right;\n",
       "    }\n",
       "</style>\n",
       "<table border=\"1\" class=\"dataframe\">\n",
       "  <thead>\n",
       "    <tr style=\"text-align: right;\">\n",
       "      <th></th>\n",
       "      <th>date</th>\n",
       "      <th>total assets</th>\n",
       "      <th>daily_return</th>\n",
       "    </tr>\n",
       "  </thead>\n",
       "  <tbody>\n",
       "    <tr>\n",
       "      <th>0</th>\n",
       "      <td>2021-01-04</td>\n",
       "      <td>100000.000000</td>\n",
       "      <td>0.000000</td>\n",
       "    </tr>\n",
       "    <tr>\n",
       "      <th>1</th>\n",
       "      <td>2021-01-05</td>\n",
       "      <td>100306.339014</td>\n",
       "      <td>306.339014</td>\n",
       "    </tr>\n",
       "    <tr>\n",
       "      <th>2</th>\n",
       "      <td>2021-01-06</td>\n",
       "      <td>101712.991065</td>\n",
       "      <td>1406.652050</td>\n",
       "    </tr>\n",
       "    <tr>\n",
       "      <th>3</th>\n",
       "      <td>2021-01-07</td>\n",
       "      <td>102279.524368</td>\n",
       "      <td>566.533303</td>\n",
       "    </tr>\n",
       "    <tr>\n",
       "      <th>4</th>\n",
       "      <td>2021-01-08</td>\n",
       "      <td>102361.084382</td>\n",
       "      <td>81.560014</td>\n",
       "    </tr>\n",
       "    <tr>\n",
       "      <th>...</th>\n",
       "      <td>...</td>\n",
       "      <td>...</td>\n",
       "      <td>...</td>\n",
       "    </tr>\n",
       "    <tr>\n",
       "      <th>247</th>\n",
       "      <td>2021-12-27</td>\n",
       "      <td>99910.945363</td>\n",
       "      <td>725.680150</td>\n",
       "    </tr>\n",
       "    <tr>\n",
       "      <th>248</th>\n",
       "      <td>2021-12-28</td>\n",
       "      <td>100150.487201</td>\n",
       "      <td>239.541838</td>\n",
       "    </tr>\n",
       "    <tr>\n",
       "      <th>249</th>\n",
       "      <td>2021-12-29</td>\n",
       "      <td>100296.853270</td>\n",
       "      <td>146.366069</td>\n",
       "    </tr>\n",
       "    <tr>\n",
       "      <th>250</th>\n",
       "      <td>2021-12-30</td>\n",
       "      <td>100028.488242</td>\n",
       "      <td>-268.365028</td>\n",
       "    </tr>\n",
       "    <tr>\n",
       "      <th>251</th>\n",
       "      <td>2021-12-31</td>\n",
       "      <td>99842.670706</td>\n",
       "      <td>-185.817535</td>\n",
       "    </tr>\n",
       "  </tbody>\n",
       "</table>\n",
       "<p>252 rows × 3 columns</p>\n",
       "</div>"
      ],
      "text/plain": [
       "           date   total assets  daily_return\n",
       "0    2021-01-04  100000.000000      0.000000\n",
       "1    2021-01-05  100306.339014    306.339014\n",
       "2    2021-01-06  101712.991065   1406.652050\n",
       "3    2021-01-07  102279.524368    566.533303\n",
       "4    2021-01-08  102361.084382     81.560014\n",
       "..          ...            ...           ...\n",
       "247  2021-12-27   99910.945363    725.680150\n",
       "248  2021-12-28  100150.487201    239.541838\n",
       "249  2021-12-29  100296.853270    146.366069\n",
       "250  2021-12-30  100028.488242   -268.365028\n",
       "251  2021-12-31   99842.670706   -185.817535\n",
       "\n",
       "[252 rows x 3 columns]"
      ]
     },
     "execution_count": 5,
     "metadata": {},
     "output_type": "execute_result"
    }
   ],
   "source": [
    "reward_list=[0]\n",
    "for i in range(1,len(result)):\n",
    "    reward=result.iloc[i][\"total assets\"]-result.iloc[i-1][\"total assets\"]\n",
    "    reward_list.append(reward)\n",
    "result[\"daily_return\"]=reward_list\n",
    "result\n",
    "    "
   ]
  },
  {
   "cell_type": "code",
   "execution_count": 6,
   "metadata": {},
   "outputs": [],
   "source": [
    "daily_return = result[\"daily_return\"]\n",
    "neg_ret_lst = result[result[\"daily_return\"] < 0][\"daily_return\"]\n",
    "tr = result[\"total assets\"].values[-1]/result[\"total assets\"].values[0]-1\n",
    "sharpe_ratio = np.mean(daily_return) / \\\n",
    "            np.std(daily_return)*(len(result)**0.5)\n",
    "vol = np.std(daily_return)\n",
    "mdd = max((max(result[\"total assets\"]) -\n",
    "                  result[\"total assets\"])/max(result[\"total assets\"]))\n",
    "cr = np.sum(daily_return)/mdd\n",
    "sor = np.sum(daily_return)/np.std(neg_ret_lst) / \\\n",
    "np.sqrt(len(daily_return))"
   ]
  },
  {
   "cell_type": "code",
   "execution_count": 7,
   "metadata": {},
   "outputs": [
    {
     "data": {
      "text/plain": [
       "2.5"
      ]
     },
     "execution_count": 7,
     "metadata": {},
     "output_type": "execute_result"
    }
   ],
   "source": [
    "np.mean([1,2,3,4])"
   ]
  },
  {
   "cell_type": "code",
   "execution_count": null,
   "metadata": {},
   "outputs": [],
   "source": []
  },
  {
   "cell_type": "code",
   "execution_count": null,
   "metadata": {},
   "outputs": [],
   "source": []
  },
  {
   "cell_type": "code",
   "execution_count": null,
   "metadata": {},
   "outputs": [],
   "source": []
  }
 ],
 "metadata": {
  "interpreter": {
   "hash": "05c7ecc4e09568b16608f47442989c4eaf2bc45e71bc9e50b36593a814f6f101"
  },
  "kernelspec": {
   "display_name": "Python 3.7.11 ('FinRL')",
   "language": "python",
   "name": "python3"
  },
  "language_info": {
   "codemirror_mode": {
    "name": "ipython",
    "version": 3
   },
   "file_extension": ".py",
   "mimetype": "text/x-python",
   "name": "python",
   "nbconvert_exporter": "python",
   "pygments_lexer": "ipython3",
   "version": "3.7.11"
  },
  "orig_nbformat": 4
 },
 "nbformat": 4,
 "nbformat_minor": 2
}
