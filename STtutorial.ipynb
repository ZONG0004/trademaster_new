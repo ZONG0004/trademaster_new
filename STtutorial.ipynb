{
 "cells": [
  {
   "cell_type": "markdown",
   "metadata": {},
   "source": [
    "[![Open In Colab](https://colab.research.google.com/assets/colab-badge.svg)](https://colab.research.google.com/github/ZONG0004/trademaster_new/blob/master/STtutorial.ipynb)"
   ]
  },
  {
   "cell_type": "code",
   "execution_count": null,
   "metadata": {},
   "outputs": [],
   "source": [
    "! git clone https://github.com/ZONG0004/trademaster_new.git\n",
    "! pip install pip install -r ./requirements.txt\n",
    "! pip install pip install lz4\n",
    "! mv /content/trademaster_new/* ./"
   ]
  },
  {
   "cell_type": "code",
   "execution_count": null,
   "metadata": {},
   "outputs": [],
   "source": [
    "import sys\n",
    "sys.path.append(\"./trademaster_new/\")\n",
    "sys.path.append(\"./trademaster_new//RLutil/\")\n",
    "sys.path.append(\"./trademaster_new//data/\")"
   ]
  },
  {
   "cell_type": "code",
   "execution_count": null,
   "metadata": {},
   "outputs": [],
   "source": [
    "from stocktrading import *\n",
    "from data.data_config import *\n",
    "from RLutil.agent import *\n",
    "from RLutil.ATenv import ATTestingEnv, ATTradingEnv\n",
    "from analysis.risk_return import *\n",
    "import RLutil"
   ]
  },
  {
   "cell_type": "code",
   "execution_count": null,
   "metadata": {},
   "outputs": [],
   "source": [
    "path = \"./ATexperiment\"\n",
    "for seed in [12345,23451,34512,45123,51234]:\n",
    "    a = TradeMaster(path=path,data=\"dj30\",algorithms=\"td3\",seed=seed,train_env=ATTradingEnv,test_env=ATTestingEnv)\n",
    "    a.train_with_valid()\n",
    "    a.test()\n",
    "a.get_report()"
   ]
  }
 ],
 "metadata": {
  "language_info": {
   "name": "python"
  },
  "orig_nbformat": 4
 },
 "nbformat": 4,
 "nbformat_minor": 2
}
